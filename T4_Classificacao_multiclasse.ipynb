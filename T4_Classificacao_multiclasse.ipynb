{
 "cells": [
  {
   "cell_type": "markdown",
   "metadata": {
    "id": "kwvQG8578J54"
   },
   "source": [
    "# Trabalho #5 - Classificação de Múltiplas Classes\n",
    "\n",
    "Nesse trabalho você vai desenvolver uma rede neural tipo densa usando a plataforma TensorFlow-Keras para realizar uma tarefa de classificação de múltiplas classes.\n",
    "\n",
    "A tarefa de classificação desse trabalho consiste na identificação de tipos de vestuários a partir de imagens."
   ]
  },
  {
   "cell_type": "markdown",
   "metadata": {
    "id": "tAzVfdoT8J56"
   },
   "source": [
    "## Coloque aqui o seu nome\n",
    "\n",
    "Nome:\n"
   ]
  },
  {
   "cell_type": "markdown",
   "metadata": {
    "id": "ov6Vz-eT8J58"
   },
   "source": [
    "Em primeiro lugar é necessário importar alguns pacotes do Python que serão usados nesse trabalho:\n",
    "- Numpy pacote de cálculo científico com Python\n",
    "- Matplotlib biblioteca para gerar gráficos em Python\n",
    "- TensorFlow"
   ]
  },
  {
   "cell_type": "code",
   "execution_count": null,
   "metadata": {
    "id": "Af3XV_za8J5-"
   },
   "outputs": [],
   "source": [
    "import numpy as np\n",
    "import matplotlib.pyplot as plt\n",
    "import tensorflow as tf\n",
    "\n",
    "%matplotlib inline"
   ]
  },
  {
   "cell_type": "markdown",
   "metadata": {
    "collapsed": true,
    "id": "bkgneLTu8J6H"
   },
   "source": [
    "## 1 - Visão geral do problema ##\n",
    "\n",
    "O objetivo desse problema é determinar o tipo de vestuário que é mostrado em uma imagem usando uma RNA. Assim, esse problema consiste em dada uma imagem, a RNA avalia a probabilidade de existirem determinados tipos de vestuário na imagem e determina qual o tipo mais provável entre dez possíveis.\n",
    "\n",
    "O banco de dados usado nesse exemplo é o Fashion-MNIST, que consiste de imagens de artigos de vestuário da Zalando. Esse banco de dados pode ser obtido no link https://github.com/zalandoresearch/fashion-mnist. \n",
    "\n",
    "Algumas dessas imagens estão mostradas na figura abaixo.\n",
    "\n",
    "<img src=\"Fashion_MNIST.png\">\n"
   ]
  },
  {
   "cell_type": "markdown",
   "metadata": {
    "id": "Y-Dqh2ma8J6J"
   },
   "source": [
    "## 2 - Dados de treinamento\n",
    "\n",
    "Características dos dados:\n",
    "\n",
    "- O banco de dados Fashion MNIST possui 60.000 exemplos de treinamento e 10.000 exemplos de teste;\n",
    "- Cada exemplo consiste de uma imagem em tons de cinza, de dimensão 28x28 pixels;\n",
    "- Cada imagem é associada a um rótulo de 10 classes;\n",
    "- O valor da intensidade luminosa de cada pixel da imagem é um número inteiro entre 0 e 255.\n",
    "\n",
    "As possíveis classes (rótulos) presentes nas imagens são as seguintes:\n",
    "\n",
    "    0 – camiseta;\n",
    "    1 – calça;\n",
    "    2 – pulôver;\n",
    "    3 – vestido;\n",
    "    4 – casaco;\n",
    "    5 – sandália;\n",
    "    6 – camisa;\n",
    "    7 – tênis.\n",
    "    8 – bolsa;\n",
    "    9 – bota de cano curto.\n",
    "\n",
    "\n",
    "### 2.1 - Leitura dos dados\n",
    "\n",
    "O Keras já possui esse banco de dados e para usá-lo basta importá-lo com um comando. Assim, execute o código da célula abaixo para carregar os dados.\n",
    "\n",
    "Observe que usando 60.000 exemplos demora muito para treinar aRNA, então, nesse trabalho usaremos somente 10.000 exemplos de treinamento, 2.000 exemplos de validação e 2.000 exemplos de teste. E todos esses exemplos serão extraídos do conjunto de treinamento."
   ]
  },
  {
   "cell_type": "code",
   "execution_count": null,
   "metadata": {
    "colab": {
     "base_uri": "https://localhost:8080/",
     "height": 33
    },
    "id": "7NR_w_KN8J6L",
    "outputId": "b7ed0e7a-7929-4c29-e9fd-0feee5cf6eb5"
   },
   "outputs": [],
   "source": [
    "# Importa bancos de dados do Keras\n",
    "from tensorflow.keras.datasets import fashion_mnist\n",
    "\n",
    "# Carrega dados da Fashion-MNIST em tenores\n",
    "(X_train_orig, Y_train_orig), (xx, yy) = fashion_mnist.load_data()\n",
    "\n",
    "classes = ['camiseta','calça','pulover','vestido','casaco','sandália','camisa','tênis','bolsa','bota']\n",
    "\n",
    "print(\"X_train shape:\", X_train_orig.shape, \"y_train shape:\", Y_train_orig.shape)"
   ]
  },
  {
   "cell_type": "markdown",
   "metadata": {
    "id": "lzfnq96V8J6Z"
   },
   "source": [
    "Note que no código acima, `xx` e `yy` são as variáveis de entrada e de saída do conjunto de exemplos de teste original, que nesse trabalho não serão usados. \n",
    "\n",
    "Pela dimensão dos tensores dos dados de treinamento temos 60.000 imagens de treinamento com dimensão de 28 por 28 pixels."
   ]
  },
  {
   "cell_type": "markdown",
   "metadata": {
    "id": "ZmeM7sB38J6b"
   },
   "source": [
    "Execute a célula a seguir para visualizar um exemplo de uma imagem do banco de dados com a sua classe. Altere o valor da variável `index` e execute a célula novamente para visualizar mais exemplos diferentes."
   ]
  },
  {
   "cell_type": "code",
   "execution_count": null,
   "metadata": {
    "colab": {
     "base_uri": "https://localhost:8080/",
     "height": 281
    },
    "id": "Ju5EEVSv8J6e",
    "outputId": "f7e58c88-951e-4f49-9f60-d40769adce6d"
   },
   "outputs": [],
   "source": [
    "# Exemplo de uma imagem\n",
    "index = 0\n",
    "plt.imshow(X_train_orig[index], cmap='gray')\n",
    "print (\"y = \" + str(np.squeeze(Y_train_orig[index])))"
   ]
  },
  {
   "cell_type": "markdown",
   "metadata": {
    "id": "kzzeOL5v8J6t"
   },
   "source": [
    "### 2.2 - Processamento dos dados\n",
    "\n",
    "Para os dados poderem ser usados por uma RNA devemos primeiramente processá-los.\n",
    "\n",
    "Para isso devemos realizar as seguintes etapas:\n",
    "\n",
    "- Dividir aleatóriamente os dados nos conjuntos de treinamento, validação e teste;\n",
    "- Os valores dos pixels nas imagens é um número inteiro que deve ser transformados em números reais para serem usados nos cálculos;\n",
    "- Redimensionar as imagens para transformá-las em um vetor linha;\n",
    "- Normalizar as imagens de forma que os valores dos pixels fiquem entre 0 e 1."
   ]
  },
  {
   "cell_type": "markdown",
   "metadata": {
    "id": "_15VVuLl8J6u"
   },
   "source": [
    "### Exercício #1: Conjuntos de treinamento e validação\n",
    "\n",
    "Na célula abaixo crie um código para para dividir o conjunto de treinamento nos conjuntos de treinamento, validação e teste. Use 10.000 exemplos para o conjunto de treinamento e 2.000 exemplos para cada um dos conjunto de validação e teste. Não se esqueça de separar também as classes.\n",
    "\n",
    "Para selecionar os exemplos de cada um dos conjuntos, utilize o vetor de índices `ind`, que consiste de números inteiros de 0 a 59.999, ordenados de forma aleatória. Dessa forma, pegue os primeiros 10.000 elementos em `ind` para os exemplos de treinamento, os elementos de 10.000 a 12.000 para os exemplos de validação e os elementos de 12.000 a 14.000 vara os exemplos de teste."
   ]
  },
  {
   "cell_type": "code",
   "execution_count": null,
   "metadata": {
    "colab": {
     "base_uri": "https://localhost:8080/",
     "height": 98
    },
    "id": "fxcHnVdk8J6w",
    "outputId": "02f5228b-90d7-44fb-f2ab-d5adab319c82"
   },
   "outputs": [],
   "source": [
    "# PARA VOCÊ FAZER: Divisão dos dados de treinamento em dados de treinamento e validação\n",
    "\n",
    "# Gera vetor de indíces (números inteiros) de 0 a 59.999 com ordenamento aletório\n",
    "ind = np.random.randint(60000, size=60000)\n",
    "\n",
    "# Dados de entrada\n",
    "### COMECE AQUI ### (≈ 3 linhas)\n",
    "#X_train \n",
    "#X_val \n",
    "#X_test \n",
    "### TERMINE AQUI ###\n",
    "\n",
    "# Dados de saída\n",
    "### COMECE AQUI ### (≈ 3 linhas)\n",
    "#Y_train\n",
    "#Y_val \n",
    "#Y_test\n",
    "### TERMINE AQUI ###\n",
    "\n",
    "# Acerta dimensões dos vetores de saída\n",
    "Y_train = Y_train.reshape((Y_train.shape[0], 1))\n",
    "Y_val = Y_val.reshape((Y_val.shape[0], 1))\n",
    "Y_test = Y_test.reshape((Y_test.shape[0], 1))\n",
    "\n",
    "print(\"Dimensão do tensor de dados de entrada de treinamento =\", X_train.shape)\n",
    "print(\"Dimensão do tensor de dados de entrada de validação =\", X_val.shape)\n",
    "print(\"Dimensão do tensor de dados de saída de treinamento =\", Y_train.shape)\n",
    "print(\"Dimensão do tensor de dados de saída de validação =\", Y_val.shape)\n",
    "print(\"Dimensão do tensor de dados de saída de test =\", Y_test.shape)"
   ]
  },
  {
   "cell_type": "markdown",
   "metadata": {
    "id": "I6P5g8wq8J63"
   },
   "source": [
    "**Saída esperada:**\n",
    "\n",
    "    Dimensão do tensor de dados de entrada de treinamento = (10000, 28, 28)\n",
    "    Dimensão do tensor de dados de entrada de validação = (2000, 28, 28)\n",
    "    Dimensão do tensor de dados de saída de treinamento = (10000, 1)\n",
    "    Dimensão do tensor de dados de saída de validação = (2000, 1)\n",
    "    Dimensão do tensor de dados de saída de test = (2000, 1)"
   ]
  },
  {
   "cell_type": "markdown",
   "metadata": {
    "id": "VD8839_s8J65"
   },
   "source": [
    "### Exercício #2: Normalização e redimensionameto dos dados de entrada\n",
    "\n",
    "Na célula abaixo crie um código para normalizar e transformar as imagens em números reais, dividindo por 255. Após essa operação, deve-se redimensionar os dados de entrada para ficarem na forma de vetor linha de dimensão `num_px * num_px`."
   ]
  },
  {
   "cell_type": "code",
   "execution_count": null,
   "metadata": {
    "colab": {
     "base_uri": "https://localhost:8080/",
     "height": 131
    },
    "id": "ni-u71wH8J66",
    "outputId": "ac66c623-f881-4b37-a436-b23aa90fbe67"
   },
   "outputs": [],
   "source": [
    "# PARA VOCÊ FAZER: Normalização dos dados de entrada\n",
    "\n",
    "# Guarda dimensão das imagens\n",
    "num_px = X_train.shape[1]\n",
    "print(\"Numero de colunas e linhas das imagens de entrada=\", num_px)\n",
    "\n",
    "# Transformação dos dados em números reais\n",
    "### Comece AQUI ### (≈ 3 linhas)\n",
    "#X_train_float \n",
    "#X_val_float \n",
    "#X_test_float \n",
    "### TERMINE AQUI ###\n",
    "\n",
    "# Redimensionamento dos dados de entrada\n",
    "### COMECE AQUI ### (≈ 6 linhas)\n",
    "#m_train \n",
    "#X_train_flat \n",
    "#m_test \n",
    "#X_test_flat \n",
    "#m_val \n",
    "#X_val_flat \n",
    "### TERMINE AQUI ###\n",
    "\n",
    "# Dimensão dos tensores de dados\n",
    "print('Dimensão dos dados de entrada do conjunto de treinamento: ', X_train_flat.shape)\n",
    "print('Dimensão dos dados de entrada do conjunto de validação: ', X_test_flat.shape)\n",
    "print('Dimensão dos dados de entrada do conjunto de teste: ', X_test_flat.shape)\n",
    "\n",
    "# Para verificar se os resultados estão corretos\n",
    "print(\"Alguns elementos da primeira imagem de treinamento = \", X_train_flat[14,10:15])\n",
    "print(\"Alguns elementos da primeira imagem de validação = \", X_val_flat[14,10:15])\n",
    "print(\"Alguns elementos da primeira imagem de teste = \", X_test_flat[14,10:15])"
   ]
  },
  {
   "cell_type": "markdown",
   "metadata": {
    "id": "Fl1zT2dp8J7E"
   },
   "source": [
    "**Saída esperada:**\n",
    "\n",
    "    Numero de colunas e linhas das imagens de entrada= 28\n",
    "    Dimensão dos dados de entrada do conjunto de treinamento:  (10000, 784)\n",
    "    Dimensão dos dados de entrada do conjunto de validação:  (2000, 784)\n",
    "    Dimensão dos dados de entrada do conjunto de teste:  (2000, 784)\n",
    "    Alguns elementos da primeira imagem de treinamento =  [0.13333334 0.         0.         0.         0.        ]\n",
    "    Alguns elementos da primeira imagem de validação =  [0.         0.         0.827451   0.8980392  0.85490197]\n",
    "    Alguns elementos da primeira imagem de teste =  [0.04705882 0.34117648 0.05098039 0.         0.00784314]\n"
   ]
  },
  {
   "cell_type": "markdown",
   "metadata": {
    "id": "3DjGpbfL8J7G"
   },
   "source": [
    "### Exercício #3: Codificação das classes\n",
    "\n",
    "As classes das imagens são identificadas por um número inteiro que varia de 0 a 9. Porém, a saída esperada de uma RNA para um problema de classificação de múltiplas classes é um vetor de dimensão igual ao número de classes, que no caso são 9 classes. Cada elemento desse vetor representa a probabilidade da imagem ser uma classe. Assim, devemos transformar as saídas reais do conjunto de dados em um vetor linha de 9 elementos, com todos os elementos iguais a zero a menos do correspondente ao da classe da imagem, que deve ser igual a um.\n",
    "\n",
    "A função que realiza essa transformação é conhecida na literatura de \"one-hot-encoding”, que no Keras é chamada de `to_categorical`. Essa função pertence à classe de utilidades do Keras que deve ser importada antes de ser utilizada. \n",
    "\n",
    "Implemente na célula abaixo a transformação dos dados de saída usando a função `to_categorical` do keras."
   ]
  },
  {
   "cell_type": "code",
   "execution_count": null,
   "metadata": {
    "colab": {
     "base_uri": "https://localhost:8080/",
     "height": 407
    },
    "id": "3UDMsYo18J7J",
    "outputId": "13df95a2-18f4-49e2-b0d0-53a06bc6ac50"
   },
   "outputs": [],
   "source": [
    "# PARA VOCÊ FAZER: Coficação das classes dos exemplos \n",
    "\n",
    "# Importa classe de utilidades do Keras\n",
    "from tensorflow.keras.utils import to_categorical\n",
    "\n",
    "# Transformação das classes de números reais para vetores\n",
    "### COMECE AQUI ### (≈ 3 linhas)\n",
    "#Y_train_hot \n",
    "#Y_val_hot\n",
    "#Y_test_hot \n",
    "### Termine AQUI ###\n",
    "\n",
    "# Dimensão dos dados\n",
    "print('Dimensão dos dados de saída do conjunto de treinamento: ', Y_train_hot.shape)\n",
    "print('Dimensão dos dados de saída do conjunto de validação: ', Y_val_hot.shape)\n",
    "print('Dimensão dos dados de saída do conjunto de teste: ', Y_test_hot.shape)\n",
    "\n",
    "# Para verificar se os resultados estão corretos\n",
    "print(' ')\n",
    "print(\"Primeiras 5 classes numéricas dos exemplos de treinamento = \", Y_train[:5].T)\n",
    "print(\"Primeiras 5 saídas dos exemplos de treinamento = \", Y_train_hot[:5,:])\n",
    "print(' ')\n",
    "print(\"Primeiras 5 classes numéricas dos exemplos de validação = \", Y_val[:5].T)\n",
    "print(\"Primeiras 5 saídas dos exemplos de validação = \", Y_val_hot[:5,:])\n",
    "print(' ')\n",
    "print(\"Primeiras 5 classes numéricas dos exemplos de teste = \", Y_test[:5].T)\n",
    "print(\"Primeiras 5 saídas dos exemplos de teste = \", Y_test_hot[:5,:])"
   ]
  },
  {
   "cell_type": "markdown",
   "metadata": {
    "id": "zlIguqvZ8J7Q"
   },
   "source": [
    "**Saída esperada:**\n",
    "\n",
    "    Dimensão dos dados de saída do conjunto de treinamento:  (10000, 10)\n",
    "    Dimensão dos dados de saída do conjunto de validação:  (2000, 10)\n",
    "    Dimensão dos dados de saída do conjunto de teste:  (2000, 10)\n",
    "     \n",
    "    Primeiras 5 classes numéricas dos exemplos de treinamento =  [[1 6 7 5 8]]\n",
    "    Primeiras 5 saídas dos exemplos de treinamento =  [[0. 1. 0. 0. 0. 0. 0. 0. 0. 0.]\n",
    "     [0. 0. 0. 0. 0. 0. 1. 0. 0. 0.]\n",
    "     [0. 0. 0. 0. 0. 0. 0. 1. 0. 0.]\n",
    "     [0. 0. 0. 0. 0. 1. 0. 0. 0. 0.]\n",
    "     [0. 0. 0. 0. 0. 0. 0. 0. 1. 0.]]\n",
    "     \n",
    "    Primeiras 5 classes numéricas dos exemplos de validação =  [[8 7 7 5 9]]\n",
    "    Primeiras 5 saídas dos exemplos de validação =  [[0. 0. 0. 0. 0. 0. 0. 0. 1. 0.]\n",
    "     [0. 0. 0. 0. 0. 0. 0. 1. 0. 0.]\n",
    "     [0. 0. 0. 0. 0. 0. 0. 1. 0. 0.]\n",
    "     [0. 0. 0. 0. 0. 1. 0. 0. 0. 0.]\n",
    "     [0. 0. 0. 0. 0. 0. 0. 0. 0. 1.]]\n",
    "     \n",
    "    Primeiras 5 classes numéricas dos exemplos de teste =  [[1 7 2 0 2]]\n",
    "    Primeiras 5 saídas dos exemplos de teste =  [[0. 1. 0. 0. 0. 0. 0. 0. 0. 0.]\n",
    "     [0. 0. 0. 0. 0. 0. 0. 1. 0. 0.]\n",
    "     [0. 0. 1. 0. 0. 0. 0. 0. 0. 0.]\n",
    "     [1. 0. 0. 0. 0. 0. 0. 0. 0. 0.]\n",
    "     [0. 0. 1. 0. 0. 0. 0. 0. 0. 0.]]\n",
    "        \n",
    "**Visualização da entrada e saída correspondente**\n",
    "\n",
    "Execute a célula abaixo para verificar se o seu programa está realizando de fato o que você espera. No código abaixo `index` é o número sequencial da imagem. Tente trocar a imagem, mudando a variável `index`, usando valores entre 0 e 59.999, para visualizar outros exemplos."
   ]
  },
  {
   "cell_type": "code",
   "execution_count": null,
   "metadata": {
    "colab": {
     "base_uri": "https://localhost:8080/",
     "height": 297
    },
    "id": "QNwaPRf98J7S",
    "outputId": "3b35b2d9-51fe-408c-ac99-f9f83b91d1ec"
   },
   "outputs": [],
   "source": [
    "# Exemplo de saída\n",
    "index = 100\n",
    "print(\"Classe numérica: \", Y_train[index], \", Vetor de saída correspondentes: \", Y_train_hot[index])\n",
    "plt.imshow(X_train[index], cmap='gray', vmin=0, vmax=255)"
   ]
  },
  {
   "cell_type": "markdown",
   "metadata": {
    "id": "XdcoZ30x8J7a"
   },
   "source": [
    "**Saída esperada:**\n",
    "\n",
    "    Classe numérica:  [2] , Vetor de saída correspondentes:  [0. 0. 1. 0. 0. 0. 0. 0. 0. 0.]"
   ]
  },
  {
   "cell_type": "markdown",
   "metadata": {
    "id": "JlAR0bQC8J7c"
   },
   "source": [
    "## 3 - Criação e treinamento da RNA\n",
    "\n",
    "Nesse trabalho você irá usar uma RNA com camadas do tipo densa.\n",
    "\n",
    "### Exercício #4: Criação e configuração da RNA\n",
    "\n",
    "Você vai usar uma RNA com 2 camadas intermediárias e uma camada de saída com as seguintes características:\n",
    "\n",
    "- Primeira camada: número de neurônios `n1`, função de ativação ReLu;\n",
    "- Segunda camada: número de neurônios `n2`, função de ativação ReLu;\n",
    "- Camada de saída: número de neurônio `n3`, função de ativação softmax;\n",
    "- Regularização L2 na primeira e segunda camadas.\n",
    "\n",
    "Na célula abaixo crie uma função que recebe a dimensão dos dados de entrada, os números de neurônios das 3 camadas e o parâmetro de regularização e configura a RNA de acordo com as características acima."
   ]
  },
  {
   "cell_type": "code",
   "execution_count": null,
   "metadata": {
    "id": "Oqtu8jpt8J7e"
   },
   "outputs": [],
   "source": [
    "# PARA VOCÊ FAZER: Função para configuração da RNA\n",
    "\n",
    "# Importa classes do Keras de modelos e camadas\n",
    "from tensorflow.keras import models\n",
    "from tensorflow.keras import layers\n",
    "from tensorflow.keras import regularizers\n",
    "\n",
    "def build_model(data_shape, lamb, n1, n2, n3):\n",
    "    \"\"\"\n",
    "    Essa função configura uma rede neural deep-learnig\n",
    "    \n",
    "    Argumentos:\n",
    "    data_shape = tuple com dimensões dos dados de entrada da rede\n",
    "    lamb = parãmetro de regularização L2\n",
    "    n1 = número de neurônios da primeira camada\n",
    "    n2 = número de neurônios da segunda camada\n",
    "    n3 = número de neurônios da camada de saída\n",
    "       \n",
    "    Retorna: modelo da rede neural\n",
    "    \"\"\"\n",
    "\n",
    "    # Instanciação do modelo\n",
    "    model = models.Sequential()\n",
    "    \n",
    "    # Adicione as camadas em seu modelo de RNA\n",
    "    #### COMECE AQUI ### (≈ 3 linhas)\n",
    "    #\n",
    "    ### TERMINE AQUI ###\n",
    "    \n",
    "    return model"
   ]
  },
  {
   "cell_type": "markdown",
   "metadata": {
    "id": "OPn2Zwdm8J7m"
   },
   "source": [
    "Defina os números de neurônios das camadas intermediárias e de saída e crie a RNA usando a função `build_model` criada na célula anterior. Utilize `n1 = 64`, `n2 = 32`, `n3 = 10` e `lamb = 0.0002`. Após criar a RNA utilize o método `summary` para visualizar a sua rede."
   ]
  },
  {
   "cell_type": "code",
   "execution_count": null,
   "metadata": {
    "colab": {
     "base_uri": "https://localhost:8080/",
     "height": 245
    },
    "id": "eGxpCfZf8J7o",
    "outputId": "bc5590ac-08cc-48a2-d726-3e9a66d0d303"
   },
   "outputs": [],
   "source": [
    "# PARA VOCÊ FAZER: criação da RNA\n",
    "\n",
    "# Dimensão dos dados de entrada\n",
    "#### COMECE AQUI ### (≈ 1 linhas) \n",
    "data_shape = (28*28,)\n",
    "### TERMINE AQUI ###\n",
    "\n",
    "# Definição dos números de neurônios das camadas e parâmetro de regularização\n",
    "#### COMECE AQUI ### (≈ 4 linhas)\n",
    "\n",
    "### TERMINE AQUI ###\n",
    "\n",
    "# Cria rede neural deep learning e apresenta sua configuração\n",
    "#### COMECE AQUI ### (≈ 2 linhas)\n",
    "#rna\n",
    "#\n",
    "### TERMINE AQUI ###\n"
   ]
  },
  {
   "cell_type": "markdown",
   "metadata": {
    "id": "_4dofok-8J7x"
   },
   "source": [
    "**Saída esperada:**\n",
    "\n",
    "    Model: \"sequential_1\"\n",
    "    _________________________________________________________________\n",
    "    Layer (type)                 Output Shape              Param #   \n",
    "    =================================================================\n",
    "    dense (Dense)                (None, 64)                50240     \n",
    "    _________________________________________________________________\n",
    "    dense_1 (Dense)              (None, 32)                2080      \n",
    "    _________________________________________________________________\n",
    "    dense_2 (Dense)              (None, 10)                330       \n",
    "    =================================================================\n",
    "    Total params: 52,650\n",
    "    Trainable params: 52,650\n",
    "    Non-trainable params: 0\n",
    "    _________________________________________________________________"
   ]
  },
  {
   "cell_type": "markdown",
   "metadata": {
    "id": "kb8MdOiI8J7z"
   },
   "source": [
    "### Exercício #5: Compilação e treinamento da RNA\n",
    "\n",
    "Agora você vai treinar a sua RNA usando o método de otimização Adam. Assim, na célula abaixo, compile e treine a sua RNA usando os seguinte hiperparâmetros:\n",
    "\n",
    "- taxa de aprendizado = 0,01;\n",
    "- Tamanho do lote = 256;\n",
    "- número de épocas = 100.\n",
    "\n",
    "**Importante:** Escolha o parâmetro `verbose=0` no método `fit` para evitar de imprimir os resultados das 100 épocas de treinamento."
   ]
  },
  {
   "cell_type": "code",
   "execution_count": null,
   "metadata": {
    "id": "TXUkfIpQ8J70"
   },
   "outputs": [],
   "source": [
    "# PARA VOCÊ FAZER: compilação e treinamento da RNA usando o método do gradiente descendente com momento\n",
    "\n",
    "# importa do keras a classe dos otimizadores\n",
    "from tensorflow.keras import optimizers\n",
    "\n",
    "# Configuração do otimizador\n",
    "### COMECE AQUI ### (≈ 2 linhas)\n",
    "#\n",
    "### TERMINE AQUI ###\n",
    "\n",
    "# Treinamento da RNA\n",
    "### COMECE AQUI ### (≈ 1 linha)\n",
    "#history\n",
    "### TERMINE AQUI ###"
   ]
  },
  {
   "cell_type": "markdown",
   "metadata": {
    "id": "ZSI00NJk8J79"
   },
   "source": [
    "### Visualização dos resultados\n",
    "\n",
    "Execute a célula a seguir para fazer os gráficos da função de custo e da métrica para os dados de treinamento e validação."
   ]
  },
  {
   "cell_type": "code",
   "execution_count": null,
   "metadata": {
    "colab": {
     "base_uri": "https://localhost:8080/",
     "height": 577
    },
    "id": "1Dfrpj0g8J7_",
    "outputId": "65089023-ef58-4d5c-cc23-33b8ffb842e2"
   },
   "outputs": [],
   "source": [
    "# Salva treinamento na variável history para visualização\n",
    "history_dict = history.history\n",
    "\n",
    "# Salva custos, métricas e epocas em vetores \n",
    "custo = history_dict['loss']\n",
    "acc = history_dict['accuracy']\n",
    "val_custo = history_dict['val_loss']\n",
    "val_acc = history_dict['val_accuracy']\n",
    "\n",
    "# Cria vetor de épocas\n",
    "epocas = range(1, len(custo) + 1)\n",
    "\n",
    "# Gráfico dos valores de custo\n",
    "plt.plot(epocas, custo, 'bo', label='Custo - treinamento')\n",
    "plt.plot(epocas, val_custo, 'b', label='Custo - validação')\n",
    "plt.title('Valor da função de custo – treinamento e validação')\n",
    "plt.xlabel('Épocas')\n",
    "plt.ylabel('Custo')\n",
    "plt.legend()\n",
    "plt.show()\n",
    "\n",
    "# Gráfico dos valores da métrica\n",
    "plt.plot(epocas, acc, 'bo', label='exatidao- treinamento')\n",
    "plt.plot(epocas, val_acc, 'b', label='exatidao - validação')\n",
    "plt.title('Valor da métrica – treinamento e validação')\n",
    "plt.xlabel('Épocas')\n",
    "plt.ylabel('Exatidao')\n",
    "plt.legend()\n",
    "plt.show()"
   ]
  },
  {
   "cell_type": "markdown",
   "metadata": {
    "id": "r_faZ64n8J8H"
   },
   "source": [
    "### Análise dos resultados\n",
    "\n",
    "Pelos gráficos da função de custo e da métrica você deve observar o seguinte:\n",
    "\n",
    "- O valor do custo para os dados de treinamento diminui constantemente ao longo do treinamento e estabiliza em um valor de cerca de 0,4.\n",
    "- O valor do custo para os dados de validação diminui até por volta da época 20 e depois estabiliza em um valor de cerca de 0,6, o que representa um resultado não muito bom.\n",
    "- A exatidão obtida para os dados de treinamento é de 90%, enquanto que para os dados de validação é de cerca de 85%.\n",
    "\n",
    "O grafico da função de custo durante o treinamento e os valores obtidos para a função de custo e para a métrica no final do treinamento mostram claramente que está ocorrendo um pouco de overfitting dos dados de treinamento."
   ]
  },
  {
   "cell_type": "markdown",
   "metadata": {
    "id": "e41kl8228J8K"
   },
   "source": [
    "### Exercício #6: Cálculo do custo e métrica\n",
    "\n",
    "Modifique a célula abaixo para calcular o custo e a exatidão para os dados de treinamento, validação e teste."
   ]
  },
  {
   "cell_type": "code",
   "execution_count": null,
   "metadata": {
    "colab": {
     "base_uri": "https://localhost:8080/",
     "height": 115
    },
    "id": "19Ppd8s48J8M",
    "outputId": "e2f7a2c0-bc1c-4a5a-fdb3-1501fe3454d9"
   },
   "outputs": [],
   "source": [
    "# PARA VOCÊ FAZER: calculo do custo e a exatidão para os dados de treinamento, validação e teste\n",
    "\n",
    "# Usando o método evaluate calcule o custo e a exatidão\n",
    "### COMECE AQUI ### (≈ 3 linhas)\n",
    "#\n",
    "### TERMINE AQUI ###\n",
    "\n",
    "print('Dados de treinamento: ', custo_e_metricas_train)\n",
    "print('Dados de validação: ', custo_e_metricas_val)\n",
    "print('Dados de teste: ', custo_e_metricas_test)"
   ]
  },
  {
   "cell_type": "markdown",
   "metadata": {
    "id": "Uko2isMH8J8U"
   },
   "source": [
    "**Exemplo de saída esperada:**\n",
    "\n",
    "    313/313 [==============================] - 1s 2ms/step - loss: 0.4662 - accuracy: 0.8686\n",
    "    63/63 [==============================] - 0s 2ms/step - loss: 0.6348 - accuracy: 0.8260\n",
    "    63/63 [==============================] - 0s 3ms/step - loss: 0.6597 - accuracy: 0.8285\n",
    "    Dados de treinamento:  [0.46621835231781006, 0.8686000108718872]\n",
    "    Dados de validação:  [0.6347703337669373, 0.8259999752044678]\n",
    "    Dados de teste:  [0.659702718257904, 0.828499972820282]"
   ]
  },
  {
   "cell_type": "markdown",
   "metadata": {
    "id": "CHCbeNVL8J8X"
   },
   "source": [
    "## 4 - Teste da RNA\n",
    "\n",
    "### Exercício #7: Verificação dos resultados\n",
    "\n",
    "Na célula abaixo calcule a previsões da sua RNA para as imagens dos dados de teste e depois verifique se algumas dessas previsões estão corretas. \n",
    "\n",
    "Note que a previsão da RNA é um vetor de 9 elementos com as probabilidades da imagem mostrar os 10 tipos de vestuários. Para detereminar a classe prevista deve-se transformar esse vetor em um número inteiro de 0 a 9, que representa o vestuário sendo mostrado. Para fazer essa transformação use a função numpy `argmax(Y_prev, axis=?)`, onde `Y_prev` é o tensor com as saídas previstas pela RNA. Em qual eixo você deve calcular o índice da maior probabilidade?"
   ]
  },
  {
   "cell_type": "code",
   "execution_count": null,
   "metadata": {
    "colab": {
     "base_uri": "https://localhost:8080/",
     "height": 281
    },
    "id": "-FZfMnSi8J8Y",
    "outputId": "b095f020-d733-476d-9eba-d2176df653b6"
   },
   "outputs": [],
   "source": [
    "# PARA VOCÊ FAZER: cálculo das classes previstas pela RNA no conjunto de testes\n",
    "\n",
    "# Calculo das previsões da RNA\n",
    "### COMECE AQUI ### (≈ 1 linha)\n",
    "#Y_prev \n",
    "### TERMINE AQUI ###\n",
    "\n",
    "# Cálculo das classes previstas\n",
    "### COMECE AQUI ### (≈ 1 linha)\n",
    "#classe \n",
    "### TERMINE AQUI ###\n",
    "\n",
    "# Exemplo de uma imagem dos dados de teste\n",
    "index = 0\n",
    "plt.imshow(X_test[index], cmap='gray')\n",
    "print (f\"Previsto como {classes[classe[index]]}\")"
   ]
  },
  {
   "cell_type": "markdown",
   "metadata": {
    "id": "L2X-5BoA8J8j"
   },
   "source": [
    "### Exercício #8: Visualização dos resultados\n",
    "\n",
    "Na célula abaixo crie um código para fazer um gráfico com as classes reais e as previstas pela sua RNA para todos os 150 primeiros exemplos do connjunto de teste."
   ]
  },
  {
   "cell_type": "code",
   "execution_count": null,
   "metadata": {
    "colab": {
     "base_uri": "https://localhost:8080/",
     "height": 436
    },
    "id": "lm0a95qu8J8k",
    "outputId": "6ecda120-aa4f-4b41-b44d-6e4fd9d043e8",
    "scrolled": true
   },
   "outputs": [],
   "source": [
    "# PARA VOCÊ FAZER: cálculo das classes previstas pela RNA\n",
    "\n",
    "# Resultado gráfico\n",
    "# Verifique dimensoes dos vetores de classes reais e previstas\n",
    "print('Dimensão vetor classes reais= ', Y_test.shape)\n",
    "print('Dimensão vetor classes previstas= ', classe.shape)\n",
    "\n",
    "# Fazer o gráfico das classes reais e previstas\n",
    "plt.figure(figsize=(18, 6))\n",
    "### COMECE AQUI ### (≈ 7 linhas)\n",
    "#\n",
    "### TERMINE AQUI ###\n"
   ]
  },
  {
   "cell_type": "markdown",
   "metadata": {
    "id": "AztLo6L58J8q"
   },
   "source": [
    "**Saída esperada:**\n",
    "\n",
    "    Dimensão vetor classes reais=  (2000, 1)\n",
    "    Dimensão vetor classes previstas=  (2000,)\n",
    "\n",
    "<img src=\"classes_reais_previstas.png\">\n",
    "\n",
    "Note que cada bolinha azul mostrada no gráfico representa um erro de classificação."
   ]
  },
  {
   "cell_type": "markdown",
   "metadata": {
    "id": "mwdJNdbSI78-"
   },
   "source": [
    "### Ponto extra\n",
    "\n",
    "**Será que é possível melhorar os resultados?** \n",
    "\n",
    "Faça uma cópia deste notebook com as alterações que desejar para melhorar a rede. Altere, por exemplo: número de camadas e de neurônios, funções de ativação, método de otimização, método de regularização...\n",
    "\n",
    "Testarei a rede treinada em um outro conjunto de dados. O melhor resultado da sala ganha uma caixa de chocolate na última aula."
   ]
  }
 ],
 "metadata": {
  "accelerator": "GPU",
  "colab": {
   "name": "T6_Classificacao_multiclasse_sol3.ipynb",
   "provenance": []
  },
  "coursera": {
   "course_slug": "deep-neural-network",
   "graded_item_id": "SXQaI",
   "launcher_item_id": "UAwhh"
  },
  "kernelspec": {
   "display_name": "Python 3",
   "language": "python",
   "name": "python3"
  },
  "language_info": {
   "codemirror_mode": {
    "name": "ipython",
    "version": 3
   },
   "file_extension": ".py",
   "mimetype": "text/x-python",
   "name": "python",
   "nbconvert_exporter": "python",
   "pygments_lexer": "ipython3",
   "version": "3.7.4"
  }
 },
 "nbformat": 4,
 "nbformat_minor": 1
}
